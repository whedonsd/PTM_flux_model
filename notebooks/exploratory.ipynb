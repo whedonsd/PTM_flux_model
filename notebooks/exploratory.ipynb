{
 "cells": [
  {
   "cell_type": "markdown",
   "metadata": {},
   "source": [
    "# PTM Flux Model – Exploratory Notebook\n",
    "\n",
    "This notebook demonstrates the end-to-end pipeline on a toy dataset:\n",
    "- Load nodes, abundances, and validated edges.\n",
    "- Load inferred fluxes.\n",
    "- Build and visualize the flux graph with NetworkX."
   ]
  },
  {
   "cell_type": "code",
   "execution_count": 1,
   "metadata": {},
   "outputs": [],
   "source": [
    "import pandas as pd\n",
    "import networkx as nx\n",
    "import matplotlib.pyplot as plt\n",
    "\n",
    "# File paths\n",
    "nodes_file = \"../data/abundances.csv\"\n",
    "edges_file = \"../data/validated_edges.txt\"\n",
    "fluxes_file = \"../data/fluxes.csv\""
   ]
  },
  {
   "cell_type": "code",
   "execution_count": 2,
   "metadata": {},
   "outputs": [],
   "source": [
    "# Load node abundances\n",
    "nodes_df = pd.read_csv(nodes_file)\n",
    "\n",
    "# Load validated edges\n",
    "edges = []\n",
    "with open(edges_file, \"r\") as f:\n",
    "    for line in f:\n",
    "        src, tgt = line.strip().split(\"\\t\")\n",
    "        edges.append((src, tgt))\n",
    "\n",
    "# Load fluxes\n",
    "flux_df = pd.read_csv(fluxes_file)"
   ]
  },
  {
   "cell_type": "code",
   "execution_count": 3,
   "metadata": {},
   "outputs": [],
   "source": [
    "# Build graph\n",
    "G = nx.DiGraph()\n",
    "\n",
    "# Add nodes with attributes\n",
    "for _, row in nodes_df.iterrows():\n",
    "    node = row[\"Node_ID\"]\n",
    "    G.add_node(node, abundance_t0=row[\"t0\"], abundance_t1=row[\"t1\"])\n",
    "\n",
    "# Add edges with flux values\n",
    "for _, row in flux_df.iterrows():\n",
    "    G.add_edge(row[\"source\"], row[\"target\"], flux=row[\"flux\"])"
   ]
  },
  {
   "cell_type": "code",
   "execution_count": 4,
   "metadata": {},
   "outputs": [],
   "source": [
    "# Prepare node sizes (scale by abundance at t1)\n",
    "node_sizes = [5000 * G.nodes[n][\"abundance_t1\"] for n in G.nodes]\n",
    "\n",
    "# Prepare edge widths (scale by flux)\n",
    "edge_widths = [5 * d[\"flux\"] for _, _, d in G.edges(data=True)]\n",
    "\n",
    "# Draw graph\n",
    "pos = nx.spring_layout(G, seed=42)\n",
    "plt.figure(figsize=(8, 6))\n",
    "\n",
    "nx.draw_networkx_nodes(G, pos, node_size=node_sizes, node_color=\"skyblue\")\n",
    "nx.draw_networkx_labels(G, pos, font_size=10)\n",
    "nx.draw_networkx_edges(G, pos, width=edge_widths, arrowsize=20, edge_color=\"gray\")\n",
    "\n",
    "plt.title(\"Histone Modification Flux Graph (Toy Dataset)\")\n",
    "plt.axis(\"off\")\n",
    "plt.show()"
   ]
  }
 ],
 "metadata": {
  "kernelspec": {
   "display_name": "Python 3",
   "language": "python",
   "name": "python3"
  },
  "language_info": {
   "name": "python",
   "version": "3.9"
  }
 },
 "nbformat": 4,
 "nbformat_minor": 5
}

